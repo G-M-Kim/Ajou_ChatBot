{
 "cells": [
  {
   "cell_type": "code",
   "execution_count": 8,
   "id": "6ab62d47",
   "metadata": {
    "ExecuteTime": {
     "end_time": "2022-02-28T06:27:01.549524Z",
     "start_time": "2022-02-28T06:27:01.521578Z"
    }
   },
   "outputs": [
    {
     "ename": "ModuleNotFoundError",
     "evalue": "No module named 'utils.Preprocess'",
     "output_type": "error",
     "traceback": [
      "\u001b[1;31m---------------------------------------------------------------------------\u001b[0m",
      "\u001b[1;31mModuleNotFoundError\u001b[0m                       Traceback (most recent call last)",
      "\u001b[1;32mC:\\Users\\GYEONG~1\\AppData\\Local\\Temp/ipykernel_888/3160435640.py\u001b[0m in \u001b[0;36m<module>\u001b[1;34m\u001b[0m\n\u001b[1;32m----> 1\u001b[1;33m \u001b[1;32mfrom\u001b[0m \u001b[0mutils\u001b[0m\u001b[1;33m.\u001b[0m\u001b[0mPreprocess\u001b[0m \u001b[1;32mimport\u001b[0m \u001b[0mPreprocess\u001b[0m\u001b[1;33m\u001b[0m\u001b[1;33m\u001b[0m\u001b[0m\n\u001b[0m\u001b[0;32m      2\u001b[0m \u001b[1;32mfrom\u001b[0m \u001b[0mtensorflow\u001b[0m\u001b[1;33m.\u001b[0m\u001b[0mkeras\u001b[0m \u001b[1;32mimport\u001b[0m \u001b[0mpreprocessing\u001b[0m\u001b[1;33m\u001b[0m\u001b[1;33m\u001b[0m\u001b[0m\n\u001b[0;32m      3\u001b[0m \u001b[1;33m\u001b[0m\u001b[0m\n\u001b[0;32m      4\u001b[0m \u001b[0msent\u001b[0m \u001b[1;33m=\u001b[0m \u001b[1;34m\"내일 오전 10시에 짬뽕 주문하고 싶어ㅋㅋ\"\u001b[0m\u001b[1;33m\u001b[0m\u001b[1;33m\u001b[0m\u001b[0m\n\u001b[0;32m      5\u001b[0m p = Preprocess(word2index_dic='../train_tools/dict/chatbot_dict.bin',\n",
      "\u001b[1;31mModuleNotFoundError\u001b[0m: No module named 'utils.Preprocess'"
     ]
    }
   ],
   "source": [
    "from utils.Preprocess import Preprocess\n",
    "from tensorflow.keras import preprocessing\n",
    "\n",
    "sent = \"내일 오전 10시에 짬뽕 주문하고 싶어ㅋㅋ\"\n",
    "p = Preprocess(word2index_dic='../train_tools/dict/chatbot_dict.bin',\n",
    "               userdic = '../utils/user_dic.tsv')\n",
    "\n",
    "pos = p.pos(sent)\n",
    "keywords = p.get_keywords(pos, without_tag=False)\n",
    "\n",
    "print(keywords)\n",
    "\n",
    "# w2i = p.get_wordidx_sequence(keywords)\n",
    "# sequences = [w2i]\n",
    "#\n",
    "# MAX_SEQ_LEN = 15    # 임베딩 벡터 크기\n",
    "# padded_seqs = preprocessing.sequence.pad_sequences(sequences, maxlen=MAX_SEQ_LEN, padding='post')\n",
    "#\n",
    "# print(keywords)\n",
    "# print(sequences)\n",
    "# print(padded_seqs)\n"
   ]
  }
 ],
 "metadata": {
  "kernelspec": {
   "display_name": "Python 3 (ipykernel)",
   "language": "python",
   "name": "python3"
  },
  "language_info": {
   "codemirror_mode": {
    "name": "ipython",
    "version": 3
   },
   "file_extension": ".py",
   "mimetype": "text/x-python",
   "name": "python",
   "nbconvert_exporter": "python",
   "pygments_lexer": "ipython3",
   "version": "3.9.7"
  },
  "toc": {
   "base_numbering": 1,
   "nav_menu": {},
   "number_sections": true,
   "sideBar": true,
   "skip_h1_title": false,
   "title_cell": "Table of Contents",
   "title_sidebar": "Contents",
   "toc_cell": false,
   "toc_position": {},
   "toc_section_display": true,
   "toc_window_display": false
  },
  "varInspector": {
   "cols": {
    "lenName": 16,
    "lenType": 16,
    "lenVar": 40
   },
   "kernels_config": {
    "python": {
     "delete_cmd_postfix": "",
     "delete_cmd_prefix": "del ",
     "library": "var_list.py",
     "varRefreshCmd": "print(var_dic_list())"
    },
    "r": {
     "delete_cmd_postfix": ") ",
     "delete_cmd_prefix": "rm(",
     "library": "var_list.r",
     "varRefreshCmd": "cat(var_dic_list()) "
    }
   },
   "types_to_exclude": [
    "module",
    "function",
    "builtin_function_or_method",
    "instance",
    "_Feature"
   ],
   "window_display": false
  }
 },
 "nbformat": 4,
 "nbformat_minor": 5
}
