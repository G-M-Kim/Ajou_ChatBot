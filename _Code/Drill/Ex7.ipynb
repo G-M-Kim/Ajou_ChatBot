{
 "cells": [
  {
   "cell_type": "markdown",
   "id": "4127de53",
   "metadata": {},
   "source": [
    "7-1 DB 호스트 연결/닫기"
   ]
  },
  {
   "cell_type": "code",
   "execution_count": 6,
   "id": "8496c4b6",
   "metadata": {
    "ExecuteTime": {
     "end_time": "2022-03-13T04:50:01.662601Z",
     "start_time": "2022-03-13T04:50:01.645573Z"
    }
   },
   "outputs": [
    {
     "name": "stdout",
     "output_type": "stream",
     "text": [
      "DB 연결 성공\n",
      "DB 연결 닫기 성공\n"
     ]
    }
   ],
   "source": [
    "import pymysql\n",
    "\n",
    "# DB_HOST=127.0.0.1\n",
    "# DB_PORT=3306\n",
    "# DB_DATABASE=homestead\n",
    "# DB_USERNAME=homestead\n",
    "# DB_PASSWORD=secret\n",
    "\n",
    "db = None\n",
    "try:\n",
    "    # DB 호스트 정보에 맞게 입력해주세요\n",
    "    db = pymysql.connect(\n",
    "        host='127.0.0.1',\n",
    "        user='root',\n",
    "        passwd='kgm10047320',\n",
    "        db='db0316',\n",
    "        charset='utf8'\n",
    "    )\n",
    "    print(\"DB 연결 성공\")\n",
    "\n",
    "\n",
    "except Exception as e:\n",
    "    print(e)\n",
    "\n",
    "finally:\n",
    "    if db is not None:\n",
    "        db.close()\n",
    "        print(\"DB 연결 닫기 성공\")\n"
   ]
  },
  {
   "cell_type": "markdown",
   "id": "fc4dbfcf",
   "metadata": {},
   "source": [
    "7-2 테이블 생성하기"
   ]
  },
  {
   "cell_type": "code",
   "execution_count": 7,
   "id": "c9b70a4d",
   "metadata": {
    "ExecuteTime": {
     "end_time": "2022-03-13T04:50:44.259240Z",
     "start_time": "2022-03-13T04:50:44.215985Z"
    }
   },
   "outputs": [],
   "source": [
    "import pymysql\n",
    "\n",
    "db = None\n",
    "try:\n",
    "    # DB 호스트 정보에 맞게 입력해주세요\n",
    "    db = pymysql.connect(\n",
    "        host='127.0.0.1',\n",
    "        user='root',\n",
    "        passwd='kgm10047320',\n",
    "        db='db0316',\n",
    "        charset='utf8'\n",
    "    )\n",
    "\n",
    "    # 테이블 생성 sql 정의\n",
    "    sql = '''\n",
    "    CREATE TABLE tb_student (\n",
    "        id int primary key auto_increment not null,\n",
    "        name varchar(32),\n",
    "        age int,\n",
    "        address varchar(32)\n",
    "    ) ENGINE=InnoDB DEFAULT CHARSET=utf8\n",
    "    '''\n",
    "\n",
    "    # 테이블 생성\n",
    "    with db.cursor() as cursor:\n",
    "        cursor.execute(sql)\n",
    "\n",
    "except Exception as e:\n",
    "    print(e)\n",
    "\n",
    "finally:\n",
    "    if db is not None:\n",
    "        db.close()\n",
    "\n"
   ]
  },
  {
   "cell_type": "markdown",
   "id": "f750c40a",
   "metadata": {},
   "source": [
    "7-3 데이터 삽입하기"
   ]
  },
  {
   "cell_type": "code",
   "execution_count": 8,
   "id": "87288748",
   "metadata": {
    "ExecuteTime": {
     "end_time": "2022-03-13T04:54:34.074234Z",
     "start_time": "2022-03-13T04:54:34.052314Z"
    }
   },
   "outputs": [],
   "source": [
    "import pymysql\n",
    "\n",
    "db = None\n",
    "try:\n",
    "    # DB 호스트 정보에 맞게 입력해주세요\n",
    "    db = pymysql.connect(\n",
    "        host='127.0.0.1',\n",
    "        user='root',\n",
    "        passwd='kgm10047320',\n",
    "        db='db0316',\n",
    "        charset='utf8'\n",
    "    )\n",
    "\n",
    "    # 데이터 삽입 sql 정의\n",
    "    sql = '''\n",
    "    INSERT tb_student(name, age, address) values('Kei', 35, 'Korea')\n",
    "    '''\n",
    "\n",
    "    # 데이터 삽입\n",
    "    with db.cursor() as cursor:\n",
    "        cursor.execute(sql)\n",
    "    db.commit()\n",
    "\n",
    "except Exception as e:\n",
    "    print(e)\n",
    "\n",
    "finally:\n",
    "    if db is not None:\n",
    "        db.close()\n",
    "\n"
   ]
  },
  {
   "cell_type": "markdown",
   "id": "35516d9b",
   "metadata": {},
   "source": [
    "7-4 데이터 변경하기"
   ]
  },
  {
   "cell_type": "code",
   "execution_count": 9,
   "id": "1901ae81",
   "metadata": {
    "ExecuteTime": {
     "end_time": "2022-03-13T04:54:38.627953Z",
     "start_time": "2022-03-13T04:54:38.606005Z"
    }
   },
   "outputs": [],
   "source": [
    "import pymysql\n",
    "\n",
    "db = None\n",
    "try:\n",
    "    # DB 호스트 정보에 맞게 입력해주세요\n",
    "    db = pymysql.connect(\n",
    "        host='127.0.0.1',\n",
    "        user='root',\n",
    "        passwd='kgm10047320',\n",
    "        db='db0316',\n",
    "        charset='utf8'\n",
    "    )\n",
    "\n",
    "    # 데이터 수정 sql 정의\n",
    "    id = 1  # 데이터 id (PK)\n",
    "    sql = '''\n",
    "        UPDATE tb_student set name=\"케이\", age=36 where id=%d\n",
    "        ''' % id\n",
    "\n",
    "    # 데이터 수정\n",
    "    with db.cursor() as cursor:\n",
    "        cursor.execute(sql)\n",
    "    db.commit()\n",
    "\n",
    "\n",
    "except Exception as e:\n",
    "    print(e)\n",
    "\n",
    "finally:\n",
    "    if db is not None:\n",
    "        db.close()\n",
    "\n"
   ]
  },
  {
   "cell_type": "markdown",
   "id": "827e27ae",
   "metadata": {},
   "source": [
    "7-5 데이터 삭제하기"
   ]
  },
  {
   "cell_type": "code",
   "execution_count": 10,
   "id": "fef7bfd7",
   "metadata": {
    "ExecuteTime": {
     "end_time": "2022-03-13T04:56:38.301984Z",
     "start_time": "2022-03-13T04:56:38.284981Z"
    }
   },
   "outputs": [],
   "source": [
    "import pymysql\n",
    "\n",
    "db = None\n",
    "try:\n",
    "    # DB 호스트 정보에 맞게 입력해주세요\n",
    "    db = pymysql.connect(\n",
    "        host='127.0.0.1',\n",
    "        user='root',\n",
    "        passwd='kgm10047320',\n",
    "        db='db0316',\n",
    "        charset='utf8'\n",
    "    )\n",
    "\n",
    "    # 데이터 삭제 sql 정의\n",
    "    id = 1  # 데이터 id (PK)\n",
    "    sql = '''\n",
    "        DELETE from tb_student where id=%d\n",
    "        ''' % id\n",
    "\n",
    "    # 데이터 삭제\n",
    "    with db.cursor() as cursor:\n",
    "        cursor.execute(sql)\n",
    "    db.commit()\n",
    "\n",
    "\n",
    "except Exception as e:\n",
    "    print(e)\n",
    "\n",
    "finally:\n",
    "    if db is not None:\n",
    "        db.close()\n",
    "\n"
   ]
  },
  {
   "cell_type": "markdown",
   "id": "b0d503a9",
   "metadata": {},
   "source": [
    "7-6 데이터 조회하기"
   ]
  },
  {
   "cell_type": "code",
   "execution_count": 11,
   "id": "3b13dde9",
   "metadata": {
    "ExecuteTime": {
     "end_time": "2022-03-13T04:56:45.764972Z",
     "start_time": "2022-03-13T04:56:45.432845Z"
    }
   },
   "outputs": [
    {
     "name": "stdout",
     "output_type": "stream",
     "text": [
      "[{'id': 2, 'name': 'Kei', 'age': 36, 'address': 'PUSAN'}, {'id': 3, 'name': 'Tony', 'age': 34, 'address': 'PUSAN'}, {'id': 4, 'name': 'Jaeyoo', 'age': 39, 'address': 'GWANGJU'}]\n",
      "Grace 28\n",
      "   id    name  age  address\n",
      "0   2     Kei   36    PUSAN\n",
      "1   3    Tony   34    PUSAN\n",
      "2   4  Jaeyoo   39  GWANGJU\n"
     ]
    }
   ],
   "source": [
    "import pymysql\n",
    "import pandas as pd\n",
    "\n",
    "db = None\n",
    "try:\n",
    "    # DB 호스트 정보에 맞게 입력해주세요\n",
    "    db = pymysql.connect(\n",
    "        host='127.0.0.1',\n",
    "        user='root',\n",
    "        passwd='kgm10047320',\n",
    "        db='db0316',\n",
    "        charset='utf8'\n",
    "    )\n",
    "\n",
    "    # 데이터 정의\n",
    "    students = [\n",
    "        {'name': 'Kei', 'age': 36, 'address' : 'PUSAN'},\n",
    "        {'name': 'Tony', 'age': 34, 'address': 'PUSAN'},\n",
    "        {'name': 'Jaeyoo', 'age': 39, 'address': 'GWANGJU'},\n",
    "        {'name': 'Grace', 'age': 28, 'address': 'SEOUL'},\n",
    "        {'name': 'Jenny', 'age': 27, 'address': 'SEOUL'},\n",
    "    ]\n",
    "\n",
    "    # 데이터 db에 추가\n",
    "    for s in students:\n",
    "        with db.cursor() as cursor:\n",
    "            sql = '''\n",
    "                    insert tb_student(name, age, address) values(\"%s\",%d,\"%s\")\n",
    "                    ''' % (s['name'], s['age'], s['address'])\n",
    "            cursor.execute(sql)\n",
    "    db.commit() # 커밋\n",
    "\n",
    "    # 30대 학생만 조회\n",
    "    cond_age = 30\n",
    "    with db.cursor(pymysql.cursors.DictCursor) as cursor:\n",
    "        sql = ''' \n",
    "        select * from tb_student where age > %d\n",
    "        ''' % cond_age\n",
    "        cursor.execute(sql)\n",
    "        results = cursor.fetchall()\n",
    "    print(results)\n",
    "\n",
    "    # 이름 검색\n",
    "    cond_name = 'Grace'\n",
    "    with db.cursor(pymysql.cursors.DictCursor) as cursor:\n",
    "        sql = ''' \n",
    "        select * from tb_student where name=\"%s\"\n",
    "        ''' % cond_name\n",
    "        cursor.execute(sql)\n",
    "        result = cursor.fetchone()\n",
    "    print(result['name'], result['age'])\n",
    "\n",
    "    # pandas 데이터프레임으로 표현\n",
    "    df = pd.DataFrame(results)\n",
    "    print(df)\n",
    "\n",
    "\n",
    "except Exception as e:\n",
    "    print(e)\n",
    "\n",
    "finally:\n",
    "    if db is not None:\n",
    "        db.close()\n",
    "\n"
   ]
  }
 ],
 "metadata": {
  "kernelspec": {
   "display_name": "Python 3 (ipykernel)",
   "language": "python",
   "name": "python3"
  },
  "language_info": {
   "codemirror_mode": {
    "name": "ipython",
    "version": 3
   },
   "file_extension": ".py",
   "mimetype": "text/x-python",
   "name": "python",
   "nbconvert_exporter": "python",
   "pygments_lexer": "ipython3",
   "version": "3.9.7"
  },
  "toc": {
   "base_numbering": 1,
   "nav_menu": {},
   "number_sections": true,
   "sideBar": true,
   "skip_h1_title": false,
   "title_cell": "Table of Contents",
   "title_sidebar": "Contents",
   "toc_cell": false,
   "toc_position": {},
   "toc_section_display": true,
   "toc_window_display": false
  },
  "varInspector": {
   "cols": {
    "lenName": 16,
    "lenType": 16,
    "lenVar": 40
   },
   "kernels_config": {
    "python": {
     "delete_cmd_postfix": "",
     "delete_cmd_prefix": "del ",
     "library": "var_list.py",
     "varRefreshCmd": "print(var_dic_list())"
    },
    "r": {
     "delete_cmd_postfix": ") ",
     "delete_cmd_prefix": "rm(",
     "library": "var_list.r",
     "varRefreshCmd": "cat(var_dic_list()) "
    }
   },
   "types_to_exclude": [
    "module",
    "function",
    "builtin_function_or_method",
    "instance",
    "_Feature"
   ],
   "window_display": false
  }
 },
 "nbformat": 4,
 "nbformat_minor": 5
}
