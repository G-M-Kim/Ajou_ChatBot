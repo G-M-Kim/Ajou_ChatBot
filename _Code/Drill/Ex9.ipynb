{
 "cells": [
  {
   "cell_type": "markdown",
   "id": "a47951ca",
   "metadata": {
    "ExecuteTime": {
     "end_time": "2022-02-28T05:30:41.660979Z",
     "start_time": "2022-02-28T05:30:41.540391Z"
    }
   },
   "source": [
    "9-1 Flask를 이용해 웹브라우저에 글자 나타내기"
   ]
  },
  {
   "cell_type": "code",
   "execution_count": null,
   "id": "a28c6db9",
   "metadata": {
    "ExecuteTime": {
     "start_time": "2022-02-28T05:38:09.222Z"
    }
   },
   "outputs": [],
   "source": [
    "from flask import Flask\n",
    "app = Flask(__name__)\n",
    "\n",
    "@app.route('/')\n",
    "def hello():\n",
    "    return 'Hello Flask'\n",
    "\n",
    "if __name__ == '__main__':\n",
    "    app.run()\n"
   ]
  },
  {
   "cell_type": "markdown",
   "id": "0bf17b1a",
   "metadata": {},
   "source": [
    "9-2 URI 동적변수"
   ]
  },
  {
   "cell_type": "code",
   "execution_count": null,
   "id": "a3a55b8a",
   "metadata": {
    "ExecuteTime": {
     "start_time": "2022-02-28T05:43:38.640Z"
    }
   },
   "outputs": [],
   "source": [
    "from flask import Flask\n",
    "app = Flask(__name__)\n",
    "\n",
    "@app.route('/')\n",
    "def hello():\n",
    "    return 'Hello Flask2'\n",
    "\n",
    "@app.route('/info/<name>')\n",
    "def get_name(name):\n",
    "    return \"hello {}\".format(name)\n",
    "\n",
    "@app.route('/user/<int:id>')\n",
    "def get_user(id):\n",
    "    return \"user id is {}\".format(id)\n",
    "\n",
    "@app.route('/json/<int:dest_id>/<message>')\n",
    "@app.route('/JSON/<int:dest_id>/<message>')\n",
    "def send_message(dest_id, message):\n",
    "    json = {\n",
    "    \"bot_id\": dest_id,\n",
    "    \"message\": message\n",
    "    }\n",
    "    return json\n",
    "\n",
    "if __name__ == '__main__':\n",
    "    app.run()\n"
   ]
  },
  {
   "cell_type": "markdown",
   "id": "0a730f2c",
   "metadata": {},
   "source": [
    "9-3 REST API 구현"
   ]
  },
  {
   "cell_type": "code",
   "execution_count": 2,
   "id": "00a7b36d",
   "metadata": {
    "ExecuteTime": {
     "end_time": "2022-03-07T10:22:48.340943Z",
     "start_time": "2022-03-07T10:22:48.328883Z"
    }
   },
   "outputs": [],
   "source": [
    "from flask import Flask\n",
    "\n",
    "app = Flask(__name__)\n",
    "\n",
    "\n",
    "@app.route('/')\n",
    "def index():\n",
    "    return 'Hello Flask'\n",
    "\n",
    "\n",
    "@app.route('/info')\n",
    "def info():\n",
    "    return 'Info'\n",
    "\n",
    "\n",
    "@app.route('/hello')\n",
    "def hello():\n",
    "    return {\n",
    "        \"answer\": \"hello\",\n",
    "        \"Intent\": \"인사\"\n",
    "    }\n",
    "\n",
    "\n",
    "# $ export FLASK_APP=hello.py\n",
    "# $ export FLASK_ENV=development\n",
    "# $ flask run\n"
   ]
  },
  {
   "cell_type": "markdown",
   "id": "388a1363",
   "metadata": {},
   "source": []
  },
  {
   "cell_type": "code",
   "execution_count": null,
   "id": "312f05dd",
   "metadata": {},
   "outputs": [],
   "source": []
  }
 ],
 "metadata": {
  "kernelspec": {
   "display_name": "Python 3 (ipykernel)",
   "language": "python",
   "name": "python3"
  },
  "language_info": {
   "codemirror_mode": {
    "name": "ipython",
    "version": 3
   },
   "file_extension": ".py",
   "mimetype": "text/x-python",
   "name": "python",
   "nbconvert_exporter": "python",
   "pygments_lexer": "ipython3",
   "version": "3.9.7"
  },
  "toc": {
   "base_numbering": 1,
   "nav_menu": {},
   "number_sections": true,
   "sideBar": true,
   "skip_h1_title": false,
   "title_cell": "Table of Contents",
   "title_sidebar": "Contents",
   "toc_cell": false,
   "toc_position": {},
   "toc_section_display": true,
   "toc_window_display": false
  },
  "varInspector": {
   "cols": {
    "lenName": 16,
    "lenType": 16,
    "lenVar": 40
   },
   "kernels_config": {
    "python": {
     "delete_cmd_postfix": "",
     "delete_cmd_prefix": "del ",
     "library": "var_list.py",
     "varRefreshCmd": "print(var_dic_list())"
    },
    "r": {
     "delete_cmd_postfix": ") ",
     "delete_cmd_prefix": "rm(",
     "library": "var_list.r",
     "varRefreshCmd": "cat(var_dic_list()) "
    }
   },
   "types_to_exclude": [
    "module",
    "function",
    "builtin_function_or_method",
    "instance",
    "_Feature"
   ],
   "window_display": false
  }
 },
 "nbformat": 4,
 "nbformat_minor": 5
}
