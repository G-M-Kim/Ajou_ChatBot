{
 "cells": [
  {
   "cell_type": "markdown",
   "id": "5fc8a744",
   "metadata": {},
   "source": [
    "4-1 원-핫 인코딩"
   ]
  },
  {
   "cell_type": "code",
   "execution_count": 1,
   "id": "f44a20fa",
   "metadata": {
    "ExecuteTime": {
     "end_time": "2022-02-26T05:13:56.458993Z",
     "start_time": "2022-02-26T05:13:53.313283Z"
    }
   },
   "outputs": [
    {
     "name": "stdout",
     "output_type": "stream",
     "text": [
      "['오늘', '날씨', '구름']\n",
      "{'오늘': 0, '날씨': 1, '구름': 2}\n",
      "[[1. 0. 0.]\n",
      " [0. 1. 0.]\n",
      " [0. 0. 1.]]\n"
     ]
    }
   ],
   "source": [
    "from konlpy.tag import Komoran\n",
    "import numpy as np\n",
    "\n",
    "komoran = Komoran()\n",
    "text = \"오늘 날씨는 구름이 많아요.\"\n",
    "\n",
    "# 명사만 추출\n",
    "nouns = komoran.nouns(text)\n",
    "print(nouns)\n",
    "\n",
    "# 단어 사전 구축 및 단어별 인덱스 부여\n",
    "dics = {}\n",
    "for word in nouns:\n",
    "    if word not in dics.keys():\n",
    "        dics[word] = len(dics)\n",
    "print(dics)\n",
    "\n",
    "# 원-핫 인코딩\n",
    "nb_classes = len(dics)\n",
    "targets = list(dics.values())\n",
    "one_hot_targets = np.eye(nb_classes)[targets]\n",
    "print(one_hot_targets)"
   ]
  },
  {
   "cell_type": "markdown",
   "id": "6b54e2bc",
   "metadata": {},
   "source": [
    "4-2 Word2Vec 학습모델"
   ]
  },
  {
   "cell_type": "code",
   "execution_count": 9,
   "id": "3b577b21",
   "metadata": {
    "ExecuteTime": {
     "end_time": "2022-02-26T05:44:00.799412Z",
     "start_time": "2022-02-26T05:44:00.783146Z"
    }
   },
   "outputs": [
    {
     "ename": "SyntaxError",
     "evalue": "invalid syntax (Temp/ipykernel_7892/1216142524.py, line 31)",
     "output_type": "error",
     "traceback": [
      "\u001b[1;36m  File \u001b[1;32m\"C:\\Users\\GYEONG~1\\AppData\\Local\\Temp/ipykernel_7892/1216142524.py\"\u001b[1;36m, line \u001b[1;32m31\u001b[0m\n\u001b[1;33m    model = Word2Vec(sentences=docs, size=200 window=4, min_count=2, sg=1)\u001b[0m\n\u001b[1;37m                                              ^\u001b[0m\n\u001b[1;31mSyntaxError\u001b[0m\u001b[1;31m:\u001b[0m invalid syntax\n"
     ]
    }
   ],
   "source": [
    "from gensim.models import Word2Vec\n",
    "from konlpy.tag import Komoran\n",
    "import time\n",
    "\n",
    "\n",
    "# 네이버 영화 리뷰 데이터 읽어옴\n",
    "def read_review_data(filename):\n",
    "    with open(filename, 'r', encoding = 'UTF8') as f:\n",
    "        data = [line.split('\\t') for line in f.read().splitlines()]\n",
    "        data = data[1:] # header 제거\n",
    "    return data\n",
    "\n",
    "\n",
    "# 측정 시작\n",
    "start = time.time()\n",
    "\n",
    "# 리뷰 파일 읽어오기\n",
    "print('1) 말뭉치 데이터 읽기 시작')\n",
    "review_data = read_review_data('./ratings.txt')\n",
    "print(len(review_data)) # 리뷰 데이터 전체 개수\n",
    "print('1) 말뭉치 데이터 읽기 완료: ', time.time() - start)\n",
    "\n",
    "# 문장단위로 명사만 추출해 학습 입력 데이터로 만듬\n",
    "print('2) 형태소에서 명사만 추출 시작')\n",
    "komoran = Komoran()\n",
    "docs = [komoran.nouns(sentence[1]) for sentence in review_data]\n",
    "print('2) 형태소에서 명사만 추출 완료: ', time.time() - start)\n",
    "\n",
    "# word2vec 모델 학습\n",
    "print('3) word2vec 모델 학습 시작')\n",
    "model = Word2Vec(sentences=docs, size=200, window=4, min_count=2, sg=1)\n",
    "print('3) word2vec 모델 학습 완료: ', time.time() - start)\n",
    "\n",
    "# 모델 저장\n",
    "print('4) 학습된 모델 저장 시작')\n",
    "model.save('nvmc.model')\n",
    "print('4) 학습된 모델 저장 완료: ', time.time() - start)\n",
    "\n",
    "# 학습된 말뭉치 개수, 코퍼스 내 전체 단어 개수\n",
    "print(\"corpus_count : \", model.corpus_count)\n",
    "print(\"corpus_total_words : \", model.corpus_total_words)"
   ]
  },
  {
   "cell_type": "markdown",
   "id": "2767501d",
   "metadata": {},
   "source": [
    "4-3 Word2Vec 활용"
   ]
  },
  {
   "cell_type": "code",
   "execution_count": 8,
   "id": "0c3ef38e",
   "metadata": {
    "ExecuteTime": {
     "end_time": "2022-02-26T05:43:46.060846Z",
     "start_time": "2022-02-26T05:43:45.880838Z"
    }
   },
   "outputs": [
    {
     "name": "stdout",
     "output_type": "stream",
     "text": [
      "corpus_total_words :  1076896\n",
      "사랑 :  [ 0.55591935  0.20802027 -0.2404478  -0.08020083  0.33584836 -0.24869469\n",
      "  0.20194878  0.10318743  0.22266906  0.7268033   0.270661   -0.6004836\n",
      "  0.26637745  0.25696832  0.1396551  -0.34268272  0.15042138 -0.8355876\n",
      " -0.08944182 -0.36118886 -0.03175942  0.09133366  0.44221464  0.28532457\n",
      " -0.30608383  0.13368827 -0.47381234 -0.27895153 -0.4172484  -0.1568992\n",
      "  0.3319278  -0.24301818 -0.49157646 -0.4691974  -0.16458206 -0.00778689\n",
      " -0.04531144 -0.5863499   0.02460621  0.1460653   0.17599744  0.08662443\n",
      " -0.45552844 -0.209542    0.04505873  0.18495797 -0.5578932   0.4228453\n",
      "  0.07391065  0.11045886 -0.05394607 -0.21229541 -0.01312047  0.17942236\n",
      "  0.07353786  0.19517013  0.31990793  0.10794846 -0.36820138  0.50659555\n",
      " -0.2064346  -0.13113195  0.35114396 -0.04026754 -0.37991446 -0.35008144\n",
      " -0.06562484  0.1794316  -0.25310126  0.5408739  -0.05522789  0.1356547\n",
      "  0.07548014 -0.2945663  -0.32500526 -0.32973394  0.35406196 -0.7712693\n",
      " -0.2471614  -0.38939792 -0.55655336 -0.1325976   0.26630715  0.55575186\n",
      "  0.11212128 -0.08985116  0.17319691  0.43020535  0.33906877 -0.10118819\n",
      "  0.7145549   0.4378246   0.49273258 -0.20658255  0.8149342   0.02797295\n",
      "  0.72562116  0.09188338 -0.25074127  0.11743313]\n",
      "일요일 = 월요일\t 0.90476584\n",
      "안성기 = 배우\t 0.72659445\n",
      "대기업 = 삼성\t 0.8671346\n",
      "일요일 != 삼성\t 0.5851529\n",
      "히어로 != 삼성\t 0.4615765\n",
      "[('한석규', 0.9404459595680237), ('최민식', 0.9330189228057861), ('박신양', 0.9321535229682922), ('김승우', 0.9285344481468201), ('설경구', 0.9260768294334412)]\n",
      "[('엑스맨', 0.8148167729377747), ('반지의 제왕', 0.7964429259300232), ('포터', 0.7937983274459839), ('해리', 0.789635181427002), ('스타워즈', 0.7884622812271118)]\n"
     ]
    }
   ],
   "source": [
    "from gensim.models import Word2Vec\n",
    "\n",
    "# 모델 로딩\n",
    "model = Word2Vec.load('nvmc.model')\n",
    "print(\"corpus_total_words : \", model.corpus_total_words)\n",
    "\n",
    "# '사랑'이란 단어로 생성한 단어 임베딩 벡터\n",
    "print('사랑 : ', model.wv['사랑'])\n",
    "\n",
    "# 단어 유사도 계산\n",
    "print(\"일요일 = 월요일\\t\", model.wv.similarity(w1='일요일', w2='월요일'))\n",
    "print(\"안성기 = 배우\\t\", model.wv.similarity(w1='안성기', w2='배우'))\n",
    "print(\"대기업 = 삼성\\t\", model.wv.similarity(w1='대기업', w2='삼성'))\n",
    "print(\"일요일 != 삼성\\t\", model.wv.similarity(w1='일요일', w2='삼성'))\n",
    "print(\"히어로 != 삼성\\t\", model.wv.similarity(w1='히어로', w2='삼성'))\n",
    "\n",
    "# 가장 유사한 단어 추출\n",
    "print(model.wv.most_similar(\"안성기\", topn=5))\n",
    "print(model.wv.most_similar(\"시리즈\", topn=5))"
   ]
  }
 ],
 "metadata": {
  "kernelspec": {
   "display_name": "Python 3 (ipykernel)",
   "language": "python",
   "name": "python3"
  },
  "language_info": {
   "codemirror_mode": {
    "name": "ipython",
    "version": 3
   },
   "file_extension": ".py",
   "mimetype": "text/x-python",
   "name": "python",
   "nbconvert_exporter": "python",
   "pygments_lexer": "ipython3",
   "version": "3.9.7"
  },
  "toc": {
   "base_numbering": 1,
   "nav_menu": {},
   "number_sections": true,
   "sideBar": true,
   "skip_h1_title": false,
   "title_cell": "Table of Contents",
   "title_sidebar": "Contents",
   "toc_cell": false,
   "toc_position": {},
   "toc_section_display": true,
   "toc_window_display": false
  },
  "varInspector": {
   "cols": {
    "lenName": 16,
    "lenType": 16,
    "lenVar": 40
   },
   "kernels_config": {
    "python": {
     "delete_cmd_postfix": "",
     "delete_cmd_prefix": "del ",
     "library": "var_list.py",
     "varRefreshCmd": "print(var_dic_list())"
    },
    "r": {
     "delete_cmd_postfix": ") ",
     "delete_cmd_prefix": "rm(",
     "library": "var_list.r",
     "varRefreshCmd": "cat(var_dic_list()) "
    }
   },
   "types_to_exclude": [
    "module",
    "function",
    "builtin_function_or_method",
    "instance",
    "_Feature"
   ],
   "window_display": false
  }
 },
 "nbformat": 4,
 "nbformat_minor": 5
}
