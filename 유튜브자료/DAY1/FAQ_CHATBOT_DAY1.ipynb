{
 "cells": [
  {
   "cell_type": "code",
   "execution_count": 0,
   "metadata": {
    "colab": {},
    "colab_type": "code",
    "id": "fifBMBBqBBBE"
   },
   "outputs": [],
   "source": [
    "import os\n",
    "import warnings\n",
    "from gensim.models import doc2vec\n",
    "from gensim.models.doc2vec import TaggedDocument\n"
   ]
  },
  {
   "cell_type": "code",
   "execution_count": 0,
   "metadata": {
    "colab": {},
    "colab_type": "code",
    "id": "ZUklYY89zoSW"
   },
   "outputs": [],
   "source": [
    "    faqs = [[\"1\", \"당해년도 납입액은 수정 가능 한가요?\", \"네, 당해년도 납입액은 12464 화면 등록전까지 수정 가능합니다.\"],\n",
    "            [\"2\", \"대리인통보 대상계좌 기준은 어떻게 되나요?\", \"모계좌 기준 가장 최근에 개설된 계좌의 관리점에서 조회 됩니다.  의원폐쇄된 자계좌는 조회대상 계좌에서 제외됩니다. 계좌주 계좌가 사절원 계좌가 아닌 경우만 조회됩니다\"],\n",
    "            [\"3\", \"등록가능 단말기수는 어떻게 되나요?\", \"5대까지 등록 가능입니다.\"],\n",
    "            [\"4\", \"모바일계좌개설 가능한 시간은 어떻게 되나요?\", \"08:00 ~ 20:00(영업일만 가능\"],\n",
    "            [\"5\", \"미국인일때 미국납세자등록번호 작성 방법은 어떻게 되나요?\", \"계좌주가 미국인일 때 계좌주의 미국납세자등록번호(사회보장번호(Social Security Number), 고용주식별번호(Employer Identification Number), 개인납세자번호(Individual Taxpayer Identification Number))를 기재합니다..\"]\n",
    "    ]"
   ]
  },
  {
   "cell_type": "code",
   "execution_count": 0,
   "metadata": {
    "colab": {
     "base_uri": "https://localhost:8080/",
     "height": 190
    },
    "colab_type": "code",
    "executionInfo": {
     "elapsed": 526,
     "status": "ok",
     "timestamp": 1571654637274,
     "user": {
      "displayName": "규진문",
      "photoUrl": "https://lh3.googleusercontent.com/a-/AAuE7mDu_KUplZBHa74hvIOiKRhW5OrsKjsno9atVFQakhk=s64",
      "userId": "18415545031766397225"
     },
     "user_tz": -540
    },
    "id": "HXBRgEeoz4Iy",
    "outputId": "3b1fd507-a313-4da7-ea9e-bd56efa43891"
   },
   "outputs": [
    {
     "data": {
      "text/plain": [
       "[['1', '당해년도 납입액은 수정 가능 한가요?', '네, 당해년도 납입액은 12464 화면 등록전까지 수정 가능합니다.'],\n",
       " ['2',\n",
       "  '대리인통보 대상계좌 기준은 어떻게 되나요?',\n",
       "  '모계좌 기준 가장 최근에 개설된 계좌의 관리점에서 조회 됩니다.  의원폐쇄된 자계좌는 조회대상 계좌에서 제외됩니다. 계좌주 계좌가 사절원 계좌가 아닌 경우만 조회됩니다'],\n",
       " ['3', '등록가능 단말기수는 어떻게 되나요?', '5대까지 등록 가능입니다.'],\n",
       " ['4', '모바일계좌개설 가능한 시간은 어떻게 되나요?', '08:00 ~ 20:00(영업일만 가능'],\n",
       " ['5',\n",
       "  '미국인일때 미국납세자등록번호 작성 방법은 어떻게 되나요?',\n",
       "  '계좌주가 미국인일 때 계좌주의 미국납세자등록번호(사회보장번호(Social Security Number), 고용주식별번호(Employer Identification Number), 개인납세자번호(Individual Taxpayer Identification Number))를 기재합니다..']]"
      ]
     },
     "execution_count": 4,
     "metadata": {
      "tags": []
     },
     "output_type": "execute_result"
    }
   ],
   "source": [
    "faqs"
   ]
  },
  {
   "cell_type": "code",
   "execution_count": 0,
   "metadata": {
    "colab": {
     "base_uri": "https://localhost:8080/",
     "height": 173
    },
    "colab_type": "code",
    "executionInfo": {
     "elapsed": 7647,
     "status": "ok",
     "timestamp": 1571654631478,
     "user": {
      "displayName": "규진문",
      "photoUrl": "https://lh3.googleusercontent.com/a-/AAuE7mDu_KUplZBHa74hvIOiKRhW5OrsKjsno9atVFQakhk=s64",
      "userId": "18415545031766397225"
     },
     "user_tz": -540
    },
    "id": "7bn8Jqgu60K3",
    "outputId": "05257235-e284-429d-e062-6a7bb64d5dd5"
   },
   "outputs": [
    {
     "name": "stdout",
     "output_type": "stream",
     "text": [
      "Collecting konlpy\n",
      "\u001b[?25l  Downloading https://files.pythonhosted.org/packages/e5/3d/4e983cd98d87b50b2ab0387d73fa946f745aa8164e8888a714d5129f9765/konlpy-0.5.1-py2.py3-none-any.whl (19.4MB)\n",
      "\u001b[K     |████████████████████████████████| 19.4MB 1.2MB/s \n",
      "\u001b[?25hCollecting JPype1>=0.5.7 (from konlpy)\n",
      "\u001b[?25l  Downloading https://files.pythonhosted.org/packages/07/09/e19ce27d41d4f66d73ac5b6c6a188c51b506f56c7bfbe6c1491db2d15995/JPype1-0.7.0-cp36-cp36m-manylinux2010_x86_64.whl (2.7MB)\n",
      "\u001b[K     |████████████████████████████████| 2.7MB 34.2MB/s \n",
      "\u001b[?25hInstalling collected packages: JPype1, konlpy\n",
      "Successfully installed JPype1-0.7.0 konlpy-0.5.1\n"
     ]
    }
   ],
   "source": [
    "!pip install konlpy"
   ]
  },
  {
   "cell_type": "code",
   "execution_count": 0,
   "metadata": {
    "colab": {},
    "colab_type": "code",
    "id": "gozivwQlz5ON"
   },
   "outputs": [],
   "source": [
    "#형태소 분석\n",
    "import jpype\n",
    "from konlpy.tag import Kkma"
   ]
  },
  {
   "cell_type": "code",
   "execution_count": 0,
   "metadata": {
    "colab": {
     "base_uri": "https://localhost:8080/",
     "height": 187
    },
    "colab_type": "code",
    "executionInfo": {
     "elapsed": 1342,
     "status": "ok",
     "timestamp": 1571654642949,
     "user": {
      "displayName": "규진문",
      "photoUrl": "https://lh3.googleusercontent.com/a-/AAuE7mDu_KUplZBHa74hvIOiKRhW5OrsKjsno9atVFQakhk=s64",
      "userId": "18415545031766397225"
     },
     "user_tz": -540
    },
    "id": "J_F2eGOZ9cfq",
    "outputId": "1a49cd96-3f07-49d5-b4db-ca299c8bdcf3"
   },
   "outputs": [
    {
     "name": "stderr",
     "output_type": "stream",
     "text": [
      "/usr/local/lib/python3.6/dist-packages/jpype/_core.py:210: UserWarning: \n",
      "-------------------------------------------------------------------------------\n",
      "Deprecated: convertStrings was not specified when starting the JVM. The default\n",
      "behavior in JPype will be False starting in JPype 0.8. The recommended setting\n",
      "for new code is convertStrings=False.  The legacy value of True was assumed for\n",
      "this session. If you are a user of an application that reported this warning,\n",
      "please file a ticket with the developer.\n",
      "-------------------------------------------------------------------------------\n",
      "\n",
      "  \"\"\")\n"
     ]
    }
   ],
   "source": [
    "kkma = Kkma()\n",
    "\n",
    "def tokenize_kkma(doc):\n",
    "    jpype.attachThreadToJVM()\n",
    "    token_doc = ['/'.join(word) for word in kkma.pos(doc) ]\n",
    "    return token_doc\n"
   ]
  },
  {
   "cell_type": "code",
   "execution_count": 0,
   "metadata": {
    "colab": {
     "base_uri": "https://localhost:8080/",
     "height": 187
    },
    "colab_type": "code",
    "executionInfo": {
     "elapsed": 1168,
     "status": "ok",
     "timestamp": 1571121824849,
     "user": {
      "displayName": "규진문",
      "photoUrl": "https://lh3.googleusercontent.com/a-/AAuE7mDu_KUplZBHa74hvIOiKRhW5OrsKjsno9atVFQakhk=s64",
      "userId": "18415545031766397225"
     },
     "user_tz": -540
    },
    "id": "Efvj2CQ9J7IJ",
    "outputId": "2a870332-85da-4e0b-9de0-f5174f158084"
   },
   "outputs": [
    {
     "name": "stderr",
     "output_type": "stream",
     "text": [
      "/usr/local/lib/python3.6/dist-packages/jpype/_core.py:210: UserWarning: \n",
      "-------------------------------------------------------------------------------\n",
      "Deprecated: convertStrings was not specified when starting the JVM. The default\n",
      "behavior in JPype will be False starting in JPype 0.8. The recommended setting\n",
      "for new code is convertStrings=False.  The legacy value of True was assumed for\n",
      "this session. If you are a user of an application that reported this warning,\n",
      "please file a ticket with the developer.\n",
      "-------------------------------------------------------------------------------\n",
      "\n",
      "  \"\"\")\n"
     ]
    }
   ],
   "source": [
    "#자바를 안하면 나오는 에러\n",
    "#from konlpy.tag import Kkma\n",
    "#kkma = Kkma()\n",
    "#def tokenize_kkma(doc):\n",
    "#    token_doc = ['/'.join(word) for word in kkma.pos(doc) ]\n",
    "#    return token_doc"
   ]
  },
  {
   "cell_type": "code",
   "execution_count": 0,
   "metadata": {
    "colab": {
     "base_uri": "https://localhost:8080/",
     "height": 187
    },
    "colab_type": "code",
    "executionInfo": {
     "elapsed": 11033,
     "status": "ok",
     "timestamp": 1571654665812,
     "user": {
      "displayName": "규진문",
      "photoUrl": "https://lh3.googleusercontent.com/a-/AAuE7mDu_KUplZBHa74hvIOiKRhW5OrsKjsno9atVFQakhk=s64",
      "userId": "18415545031766397225"
     },
     "user_tz": -540
    },
    "id": "7pAwS19Y-Jj5",
    "outputId": "aa407779-f56c-4d22-e433-a5e812dfc952"
   },
   "outputs": [
    {
     "data": {
      "text/plain": [
       "['당해/NNG',\n",
       " '년도/NNM',\n",
       " '납입/NNG',\n",
       " '액/XSN',\n",
       " '은/JX',\n",
       " '수정/NNG',\n",
       " '가능/NNG',\n",
       " '한/MDN',\n",
       " '가요/NNG',\n",
       " '?/SF']"
      ]
     },
     "execution_count": 7,
     "metadata": {
      "tags": []
     },
     "output_type": "execute_result"
    }
   ],
   "source": [
    "tokenize_kkma(faqs[0][1])"
   ]
  },
  {
   "cell_type": "code",
   "execution_count": 0,
   "metadata": {
    "colab": {},
    "colab_type": "code",
    "id": "gbiGILr5Lx-I"
   },
   "outputs": [],
   "source": [
    "# 리스트에서 각 문장부분 토큰화\n",
    "token_faqs = [(tokenize_kkma(row[1]), row[0]) for row in faqs]\n",
    "\n",
    "# Doc2Vec에서 사용하는 태그문서형으로 변경\n",
    "tagged_faqs = [TaggedDocument(d, [c]) for d, c in token_faqs]"
   ]
  },
  {
   "cell_type": "code",
   "execution_count": 0,
   "metadata": {
    "colab": {
     "base_uri": "https://localhost:8080/",
     "height": 122
    },
    "colab_type": "code",
    "executionInfo": {
     "elapsed": 1557,
     "status": "ok",
     "timestamp": 1571654671060,
     "user": {
      "displayName": "규진문",
      "photoUrl": "https://lh3.googleusercontent.com/a-/AAuE7mDu_KUplZBHa74hvIOiKRhW5OrsKjsno9atVFQakhk=s64",
      "userId": "18415545031766397225"
     },
     "user_tz": -540
    },
    "id": "zWPXmf7RGHqx",
    "outputId": "2448736a-0a42-43a7-e315-f4ed137b68bf"
   },
   "outputs": [
    {
     "data": {
      "text/plain": [
       "[TaggedDocument(words=['당해/NNG', '년도/NNM', '납입/NNG', '액/XSN', '은/JX', '수정/NNG', '가능/NNG', '한/MDN', '가요/NNG', '?/SF'], tags=['1']),\n",
       " TaggedDocument(words=['대리인/NNG', '통보/NNG', '대상/NNG', '계좌/NNG', '기준/NNG', '은/JX', '어떻/VA', '게/ECD', '되/VV', '나요/EFQ', '?/SF'], tags=['2']),\n",
       " TaggedDocument(words=['등록/NNG', '가능/NNG', '단말/NNG', '기수/NNG', '는/JX', '어떻/VA', '게/ECD', '되/VV', '나요/EFQ', '?/SF'], tags=['3']),\n",
       " TaggedDocument(words=['모바일/NNG', '계좌/NNG', '개설/NNG', '가능/NNG', '하/XSV', 'ㄴ/ETD', '시간/NNG', '은/JX', '어떻/VA', '게/ECD', '되/VV', '나요/EFQ', '?/SF'], tags=['4']),\n",
       " TaggedDocument(words=['미국인/NNG', '일/NNG', '때/NNG', '미국/NNP', '납세자/NNG', '등록/NNG', '번호/NNG', '작성/NNG', '방법/NNG', '은/JX', '어떻/VA', '게/ECD', '되/VV', '나요/EFQ', '?/SF'], tags=['5'])]"
      ]
     },
     "execution_count": 9,
     "metadata": {
      "tags": []
     },
     "output_type": "execute_result"
    }
   ],
   "source": [
    "tagged_faqs"
   ]
  },
  {
   "cell_type": "code",
   "execution_count": 0,
   "metadata": {
    "colab": {},
    "colab_type": "code",
    "id": "Bt0JvbDqM75T"
   },
   "outputs": [],
   "source": [
    "    # make model\n",
    "    import multiprocessing\n",
    "    cores = multiprocessing.cpu_count()\n",
    "    d2v_faqs = doc2vec.Doc2Vec(\n",
    "                                    vector_size=50, \n",
    "                                    alpha=0.025,\n",
    "                                    min_alpha=0.025,\n",
    "                                    hs=1,\n",
    "                                    negative=0,\n",
    "                                    dm=0,\n",
    "                                    dbow_words = 1,\n",
    "                                    min_count = 1,\n",
    "                                    workers = cores,\n",
    "                                    seed=0\n",
    "                                    )\n",
    "    d2v_faqs.build_vocab(tagged_faqs)\n",
    "\n",
    "    # train document vectors\n",
    "    for epoch in range(10):\n",
    "        d2v_faqs.train(tagged_faqs,\n",
    "                                   total_examples = d2v_faqs.corpus_count,\n",
    "                                   epochs = d2v_faqs.epochs\n",
    "                                   )\n",
    "        d2v_faqs.alpha -= 0.0025 # decrease the learning rate\n",
    "        d2v_faqs.min_alpha = d2v_faqs.alpha # fix the learning rate, no decay"
   ]
  },
  {
   "cell_type": "code",
   "execution_count": 0,
   "metadata": {
    "colab": {},
    "colab_type": "code",
    "id": "MsWBDHpQ60AU"
   },
   "outputs": [],
   "source": [
    "predict_vector = d2v_faqs.infer_vector(\"당해년도 납입액은 수정 가능 한가요?\")"
   ]
  },
  {
   "cell_type": "code",
   "execution_count": 0,
   "metadata": {
    "colab": {
     "base_uri": "https://localhost:8080/",
     "height": 88
    },
    "colab_type": "code",
    "executionInfo": {
     "elapsed": 570,
     "status": "ok",
     "timestamp": 1571655054530,
     "user": {
      "displayName": "규진문",
      "photoUrl": "https://lh3.googleusercontent.com/a-/AAuE7mDu_KUplZBHa74hvIOiKRhW5OrsKjsno9atVFQakhk=s64",
      "userId": "18415545031766397225"
     },
     "user_tz": -540
    },
    "id": "Yon3JCdB7Ve7",
    "outputId": "a0543174-281c-4f3f-88e9-8059684a8260"
   },
   "outputs": [
    {
     "name": "stderr",
     "output_type": "stream",
     "text": [
      "/usr/local/lib/python3.6/dist-packages/gensim/matutils.py:737: FutureWarning: Conversion of the second argument of issubdtype from `int` to `np.signedinteger` is deprecated. In future, it will be treated as `np.int64 == np.dtype(int).type`.\n",
      "  if np.issubdtype(vec.dtype, np.int):\n"
     ]
    },
    {
     "data": {
      "text/plain": [
       "[('4', 0.0750456228852272), ('3', -0.017077520489692688)]"
      ]
     },
     "execution_count": 31,
     "metadata": {
      "tags": []
     },
     "output_type": "execute_result"
    }
   ],
   "source": [
    "d2v_faqs.docvecs.most_similar([predict_vector], topn=2)"
   ]
  },
  {
   "cell_type": "code",
   "execution_count": 0,
   "metadata": {
    "colab": {
     "base_uri": "https://localhost:8080/",
     "height": 204
    },
    "colab_type": "code",
    "executionInfo": {
     "elapsed": 960,
     "status": "ok",
     "timestamp": 1571655502551,
     "user": {
      "displayName": "규진문",
      "photoUrl": "https://lh3.googleusercontent.com/a-/AAuE7mDu_KUplZBHa74hvIOiKRhW5OrsKjsno9atVFQakhk=s64",
      "userId": "18415545031766397225"
     },
     "user_tz": -540
    },
    "id": "QzFj_-dV7ctu",
    "outputId": "e876ecec-1941-4894-fa45-715687f245ef"
   },
   "outputs": [
    {
     "data": {
      "text/plain": [
       "['대리인/NNG',\n",
       " '통보/NNG',\n",
       " '대상/NNG',\n",
       " '계좌/NNG',\n",
       " '기준/NNG',\n",
       " '은/JX',\n",
       " '어떻/VA',\n",
       " '게/ECD',\n",
       " '되/VV',\n",
       " '나요/EFQ',\n",
       " '?/SF']"
      ]
     },
     "execution_count": 39,
     "metadata": {
      "tags": []
     },
     "output_type": "execute_result"
    }
   ],
   "source": [
    "test_string = \"대리인통보 대상계좌 기준은 어떻게 되나요?\"\n",
    "tokened_test_string = tokenize_kkma(test_string)\n",
    "tokened_test_string"
   ]
  },
  {
   "cell_type": "code",
   "execution_count": 0,
   "metadata": {
    "colab": {
     "base_uri": "https://localhost:8080/",
     "height": 88
    },
    "colab_type": "code",
    "executionInfo": {
     "elapsed": 668,
     "status": "ok",
     "timestamp": 1571655503641,
     "user": {
      "displayName": "규진문",
      "photoUrl": "https://lh3.googleusercontent.com/a-/AAuE7mDu_KUplZBHa74hvIOiKRhW5OrsKjsno9atVFQakhk=s64",
      "userId": "18415545031766397225"
     },
     "user_tz": -540
    },
    "id": "qpjUK4ws9dvd",
    "outputId": "3d895b13-b5c0-481c-ed62-ce317c44de46"
   },
   "outputs": [
    {
     "name": "stderr",
     "output_type": "stream",
     "text": [
      "/usr/local/lib/python3.6/dist-packages/gensim/matutils.py:737: FutureWarning: Conversion of the second argument of issubdtype from `int` to `np.signedinteger` is deprecated. In future, it will be treated as `np.int64 == np.dtype(int).type`.\n",
      "  if np.issubdtype(vec.dtype, np.int):\n"
     ]
    },
    {
     "data": {
      "text/plain": [
       "[('2', 0.035109467804431915), ('3', -0.16120800375938416)]"
      ]
     },
     "execution_count": 40,
     "metadata": {
      "tags": []
     },
     "output_type": "execute_result"
    }
   ],
   "source": [
    "test_vector = d2v_faqs.infer_vector(tokened_test_string)\n",
    "d2v_faqs.docvecs.most_similar([test_vector], topn=2)\n"
   ]
  },
  {
   "cell_type": "code",
   "execution_count": 0,
   "metadata": {
    "colab": {},
    "colab_type": "code",
    "id": "5WaMfyN-9svw"
   },
   "outputs": [],
   "source": []
  }
 ],
 "metadata": {
  "accelerator": "GPU",
  "colab": {
   "collapsed_sections": [],
   "name": "Untitled7.ipynb",
   "provenance": []
  },
  "kernelspec": {
   "display_name": "Python 3 (ipykernel)",
   "language": "python",
   "name": "python3"
  },
  "language_info": {
   "codemirror_mode": {
    "name": "ipython",
    "version": 3
   },
   "file_extension": ".py",
   "mimetype": "text/x-python",
   "name": "python",
   "nbconvert_exporter": "python",
   "pygments_lexer": "ipython3",
   "version": "3.9.7"
  },
  "toc": {
   "base_numbering": 1,
   "nav_menu": {},
   "number_sections": true,
   "sideBar": true,
   "skip_h1_title": false,
   "title_cell": "Table of Contents",
   "title_sidebar": "Contents",
   "toc_cell": false,
   "toc_position": {},
   "toc_section_display": true,
   "toc_window_display": false
  },
  "varInspector": {
   "cols": {
    "lenName": 16,
    "lenType": 16,
    "lenVar": 40
   },
   "kernels_config": {
    "python": {
     "delete_cmd_postfix": "",
     "delete_cmd_prefix": "del ",
     "library": "var_list.py",
     "varRefreshCmd": "print(var_dic_list())"
    },
    "r": {
     "delete_cmd_postfix": ") ",
     "delete_cmd_prefix": "rm(",
     "library": "var_list.r",
     "varRefreshCmd": "cat(var_dic_list()) "
    }
   },
   "types_to_exclude": [
    "module",
    "function",
    "builtin_function_or_method",
    "instance",
    "_Feature"
   ],
   "window_display": false
  }
 },
 "nbformat": 4,
 "nbformat_minor": 1
}
