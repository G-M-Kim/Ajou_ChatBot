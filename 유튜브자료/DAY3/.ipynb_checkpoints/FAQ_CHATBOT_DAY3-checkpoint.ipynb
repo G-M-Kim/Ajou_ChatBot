{
 "cells": [
  {
   "cell_type": "code",
   "execution_count": 0,
   "metadata": {
    "colab": {},
    "colab_type": "code",
    "id": "fifBMBBqBBBE"
   },
   "outputs": [],
   "source": [
    "import os\n",
    "import warnings\n",
    "from gensim.models import doc2vec\n",
    "from gensim.models.doc2vec import TaggedDocument\n",
    "import pandas as pd\n"
   ]
  },
  {
   "cell_type": "code",
   "execution_count": 2,
   "metadata": {
    "colab": {
     "base_uri": "https://localhost:8080/",
     "height": 124
    },
    "colab_type": "code",
    "executionInfo": {
     "elapsed": 17227,
     "status": "ok",
     "timestamp": 1574425799333,
     "user": {
      "displayName": "규진문",
      "photoUrl": "https://lh3.googleusercontent.com/a-/AAuE7mDu_KUplZBHa74hvIOiKRhW5OrsKjsno9atVFQakhk=s64",
      "userId": "18415545031766397225"
     },
     "user_tz": -540
    },
    "id": "ZUklYY89zoSW",
    "outputId": "ff9c37be-c9a4-47b8-ab9d-c26a68d3d6f4"
   },
   "outputs": [
    {
     "name": "stdout",
     "output_type": "stream",
     "text": [
      "Go to this URL in a browser: https://accounts.google.com/o/oauth2/auth?client_id=947318989803-6bn6qk8qdgf4n4g3pfee6491hc0brc4i.apps.googleusercontent.com&redirect_uri=urn%3aietf%3awg%3aoauth%3a2.0%3aoob&response_type=code&scope=email%20https%3a%2f%2fwww.googleapis.com%2fauth%2fdocs.test%20https%3a%2f%2fwww.googleapis.com%2fauth%2fdrive%20https%3a%2f%2fwww.googleapis.com%2fauth%2fdrive.photos.readonly%20https%3a%2f%2fwww.googleapis.com%2fauth%2fpeopleapi.readonly\n",
      "\n",
      "Enter your authorization code:\n",
      "··········\n",
      "Mounted at /content/drive/\n"
     ]
    }
   ],
   "source": [
    "# 구글 드라이브 연동\n",
    "from google.colab import drive\n",
    "\n",
    "drive.mount('/content/drive/')"
   ]
  },
  {
   "cell_type": "code",
   "execution_count": 3,
   "metadata": {
    "colab": {
     "base_uri": "https://localhost:8080/",
     "height": 419
    },
    "colab_type": "code",
    "executionInfo": {
     "elapsed": 1246,
     "status": "ok",
     "timestamp": 1574425863989,
     "user": {
      "displayName": "규진문",
      "photoUrl": "https://lh3.googleusercontent.com/a-/AAuE7mDu_KUplZBHa74hvIOiKRhW5OrsKjsno9atVFQakhk=s64",
      "userId": "18415545031766397225"
     },
     "user_tz": -540
    },
    "id": "HXBRgEeoz4Iy",
    "outputId": "23547404-9804-4ab6-cecd-343501ccc19b"
   },
   "outputs": [
    {
     "data": {
      "text/html": [
       "<div>\n",
       "<style scoped>\n",
       "    .dataframe tbody tr th:only-of-type {\n",
       "        vertical-align: middle;\n",
       "    }\n",
       "\n",
       "    .dataframe tbody tr th {\n",
       "        vertical-align: top;\n",
       "    }\n",
       "\n",
       "    .dataframe thead th {\n",
       "        text-align: right;\n",
       "    }\n",
       "</style>\n",
       "<table border=\"1\" class=\"dataframe\">\n",
       "  <thead>\n",
       "    <tr style=\"text-align: right;\">\n",
       "      <th></th>\n",
       "      <th>ID</th>\n",
       "      <th>Question</th>\n",
       "      <th>Answer</th>\n",
       "    </tr>\n",
       "  </thead>\n",
       "  <tbody>\n",
       "    <tr>\n",
       "      <th>0</th>\n",
       "      <td>1</td>\n",
       "      <td>Did you hear about the Native American man tha...</td>\n",
       "      <td>He nearly drown in his own tea pee.</td>\n",
       "    </tr>\n",
       "    <tr>\n",
       "      <th>1</th>\n",
       "      <td>2</td>\n",
       "      <td>What's the best anti diarrheal prescription?</td>\n",
       "      <td>Mycheexarphlexin</td>\n",
       "    </tr>\n",
       "    <tr>\n",
       "      <th>2</th>\n",
       "      <td>3</td>\n",
       "      <td>What do you call a person who is outside a doo...</td>\n",
       "      <td>Matt</td>\n",
       "    </tr>\n",
       "    <tr>\n",
       "      <th>3</th>\n",
       "      <td>4</td>\n",
       "      <td>Which Star Trek character is a member of the m...</td>\n",
       "      <td>Jean-Luc Pickacard</td>\n",
       "    </tr>\n",
       "    <tr>\n",
       "      <th>4</th>\n",
       "      <td>5</td>\n",
       "      <td>What's the difference between a bullet and a h...</td>\n",
       "      <td>A bullet doesn't miss Harambe</td>\n",
       "    </tr>\n",
       "    <tr>\n",
       "      <th>...</th>\n",
       "      <td>...</td>\n",
       "      <td>...</td>\n",
       "      <td>...</td>\n",
       "    </tr>\n",
       "    <tr>\n",
       "      <th>38264</th>\n",
       "      <td>38265</td>\n",
       "      <td>Q: Why did the pacifist /b/tard try to calm ev...</td>\n",
       "      <td>He did it for the</td>\n",
       "    </tr>\n",
       "    <tr>\n",
       "      <th>38265</th>\n",
       "      <td>38266</td>\n",
       "      <td>Q: Why can't Obama poke fun at himself?</td>\n",
       "      <td>A: Because that would be racist.</td>\n",
       "    </tr>\n",
       "    <tr>\n",
       "      <th>38266</th>\n",
       "      <td>38267</td>\n",
       "      <td>Why is gambling not allowed in Africa?</td>\n",
       "      <td>Because there are too many cheetahs.</td>\n",
       "    </tr>\n",
       "    <tr>\n",
       "      <th>38267</th>\n",
       "      <td>38268</td>\n",
       "      <td>What do you call three witches in a hot tub?</td>\n",
       "      <td>A self-cleaning coven.</td>\n",
       "    </tr>\n",
       "    <tr>\n",
       "      <th>38268</th>\n",
       "      <td>38269</td>\n",
       "      <td>What do scientists use to measure a chicken's ...</td>\n",
       "      <td>An egg timer</td>\n",
       "    </tr>\n",
       "  </tbody>\n",
       "</table>\n",
       "<p>38269 rows × 3 columns</p>\n",
       "</div>"
      ],
      "text/plain": [
       "          ID  ...                                Answer\n",
       "0          1  ...   He nearly drown in his own tea pee.\n",
       "1          2  ...                      Mycheexarphlexin\n",
       "2          3  ...                                  Matt\n",
       "3          4  ...                    Jean-Luc Pickacard\n",
       "4          5  ...         A bullet doesn't miss Harambe\n",
       "...      ...  ...                                   ...\n",
       "38264  38265  ...                    He did it for the \n",
       "38265  38266  ...     A: Because that would be racist. \n",
       "38266  38267  ...  Because there are too many cheetahs.\n",
       "38267  38268  ...                A self-cleaning coven.\n",
       "38268  38269  ...                          An egg timer\n",
       "\n",
       "[38269 rows x 3 columns]"
      ]
     },
     "execution_count": 3,
     "metadata": {
      "tags": []
     },
     "output_type": "execute_result"
    }
   ],
   "source": [
    "faqs = pd.read_csv(os.path.join('data','/content/drive/My Drive/data/jokes.csv'))\n",
    "faqs"
   ]
  },
  {
   "cell_type": "code",
   "execution_count": 0,
   "metadata": {
    "colab": {},
    "colab_type": "code",
    "id": "yqYk4cQGrmJL"
   },
   "outputs": [],
   "source": [
    "from nltk.tokenize import word_tokenize\n",
    "from nltk.stem import WordNetLemmatizer\n",
    "from nltk.corpus import stopwords\n",
    "import nltk"
   ]
  },
  {
   "cell_type": "code",
   "execution_count": 5,
   "metadata": {
    "colab": {
     "base_uri": "https://localhost:8080/",
     "height": 69
    },
    "colab_type": "code",
    "executionInfo": {
     "elapsed": 1177,
     "status": "ok",
     "timestamp": 1574425868853,
     "user": {
      "displayName": "규진문",
      "photoUrl": "https://lh3.googleusercontent.com/a-/AAuE7mDu_KUplZBHa74hvIOiKRhW5OrsKjsno9atVFQakhk=s64",
      "userId": "18415545031766397225"
     },
     "user_tz": -540
    },
    "id": "i17WdnIRsA9F",
    "outputId": "88cc84bf-1327-416d-d266-85d933a8c12f"
   },
   "outputs": [
    {
     "name": "stdout",
     "output_type": "stream",
     "text": [
      "[nltk_data] Downloading package punkt to /root/nltk_data...\n",
      "[nltk_data]   Unzipping tokenizers/punkt.zip.\n"
     ]
    },
    {
     "data": {
      "text/plain": [
       "True"
      ]
     },
     "execution_count": 5,
     "metadata": {
      "tags": []
     },
     "output_type": "execute_result"
    }
   ],
   "source": [
    "nltk.download('punkt')"
   ]
  },
  {
   "cell_type": "code",
   "execution_count": 0,
   "metadata": {
    "colab": {},
    "colab_type": "code",
    "id": "1eVWjjERru6k"
   },
   "outputs": [],
   "source": [
    "# 토근화\n",
    "tokened_questions = [word_tokenize(question.lower()) for question in faqs['Question']]\n",
    "tokened_questions"
   ]
  },
  {
   "cell_type": "code",
   "execution_count": 0,
   "metadata": {
    "colab": {},
    "colab_type": "code",
    "id": "dxd5KFsDrgJN"
   },
   "outputs": [],
   "source": [
    "lemmatizer = WordNetLemmatizer()"
   ]
  },
  {
   "cell_type": "code",
   "execution_count": 8,
   "metadata": {
    "colab": {
     "base_uri": "https://localhost:8080/",
     "height": 69
    },
    "colab_type": "code",
    "executionInfo": {
     "elapsed": 1136,
     "status": "ok",
     "timestamp": 1574425880170,
     "user": {
      "displayName": "규진문",
      "photoUrl": "https://lh3.googleusercontent.com/a-/AAuE7mDu_KUplZBHa74hvIOiKRhW5OrsKjsno9atVFQakhk=s64",
      "userId": "18415545031766397225"
     },
     "user_tz": -540
    },
    "id": "r5xkKwErvRDc",
    "outputId": "d6554edf-8f84-44e0-b260-d7766b7d8202"
   },
   "outputs": [
    {
     "name": "stdout",
     "output_type": "stream",
     "text": [
      "[nltk_data] Downloading package wordnet to /root/nltk_data...\n",
      "[nltk_data]   Unzipping corpora/wordnet.zip.\n"
     ]
    },
    {
     "data": {
      "text/plain": [
       "True"
      ]
     },
     "execution_count": 8,
     "metadata": {
      "tags": []
     },
     "output_type": "execute_result"
    }
   ],
   "source": [
    "nltk.download('wordnet')"
   ]
  },
  {
   "cell_type": "code",
   "execution_count": 0,
   "metadata": {
    "colab": {},
    "colab_type": "code",
    "id": "5_rDvW_HrpW0"
   },
   "outputs": [],
   "source": [
    "# lemmatization\n",
    "lemmed_questions = [[lemmatizer.lemmatize(word) for word in doc] for doc in tokened_questions]\n",
    "lemmed_questions"
   ]
  },
  {
   "cell_type": "code",
   "execution_count": 10,
   "metadata": {
    "colab": {
     "base_uri": "https://localhost:8080/",
     "height": 69
    },
    "colab_type": "code",
    "executionInfo": {
     "elapsed": 487,
     "status": "ok",
     "timestamp": 1574425890032,
     "user": {
      "displayName": "규진문",
      "photoUrl": "https://lh3.googleusercontent.com/a-/AAuE7mDu_KUplZBHa74hvIOiKRhW5OrsKjsno9atVFQakhk=s64",
      "userId": "18415545031766397225"
     },
     "user_tz": -540
    },
    "id": "XsNYsUJhwBxK",
    "outputId": "7d488c6d-e0f4-4ddc-eb50-e06f690f149e"
   },
   "outputs": [
    {
     "name": "stdout",
     "output_type": "stream",
     "text": [
      "[nltk_data] Downloading package stopwords to /root/nltk_data...\n",
      "[nltk_data]   Unzipping corpora/stopwords.zip.\n"
     ]
    },
    {
     "data": {
      "text/plain": [
       "True"
      ]
     },
     "execution_count": 10,
     "metadata": {
      "tags": []
     },
     "output_type": "execute_result"
    }
   ],
   "source": [
    "nltk.download('stopwords')"
   ]
  },
  {
   "cell_type": "code",
   "execution_count": 0,
   "metadata": {
    "colab": {},
    "colab_type": "code",
    "id": "aiIT-DtQwAKy"
   },
   "outputs": [],
   "source": [
    "# stopword 제거 불용어 제거하기\n",
    "stop_words = stopwords.words('english')\n",
    "questions = [[w for w in doc if not w in stop_words] for doc in lemmed_questions]\n",
    "questions"
   ]
  },
  {
   "cell_type": "code",
   "execution_count": 0,
   "metadata": {
    "colab": {},
    "colab_type": "code",
    "id": "gbiGILr5Lx-I"
   },
   "outputs": [],
   "source": [
    "# 리스트에서 각 문장부분 토큰화\n",
    "\n",
    "index_questions = []\n",
    "for i in range(len(faqs)):\n",
    "    index_questions.append([questions[i], i ])\n",
    "\n",
    "# Doc2Vec에서 사용하는 태그문서형으로 변경\n",
    "tagged_questions = [TaggedDocument(d, [int(c)]) for d, c in index_questions]"
   ]
  },
  {
   "cell_type": "code",
   "execution_count": 0,
   "metadata": {
    "colab": {},
    "colab_type": "code",
    "id": "zWPXmf7RGHqx"
   },
   "outputs": [],
   "source": [
    "tagged_questions"
   ]
  },
  {
   "cell_type": "code",
   "execution_count": 0,
   "metadata": {
    "colab": {},
    "colab_type": "code",
    "id": "Bt0JvbDqM75T"
   },
   "outputs": [],
   "source": [
    "    # make model\n",
    "import multiprocessing\n",
    "cores = multiprocessing.cpu_count()\n",
    "d2v_faqs = doc2vec.Doc2Vec(\n",
    "                                vector_size=200,\n",
    "#                                 alpha=0.025,\n",
    "#                                 min_alpha=0.025,\n",
    "                                hs=1,\n",
    "                                negative=0,\n",
    "                                dm=0,\n",
    "                                dbow_words = 1,\n",
    "                                min_count = 5,\n",
    "                                workers = cores,\n",
    "                                seed=0,\n",
    "                                epochs=20\n",
    "                                )\n",
    "d2v_faqs.build_vocab(tagged_questions)\n",
    "d2v_faqs.train(tagged_faqs,\n",
    "               total_examples = d2v_faqs.corpus_count,\n",
    "               epochs = d2v_faqs.epochs\n",
    "                                )\n",
    "    # # train document vectors\n",
    "    # for epoch in range(50):\n",
    "    #     d2v_faqs.train(tagged_faqs,\n",
    "    #                                total_examples = d2v_faqs.corpus_count,\n",
    "    #                                epochs = d2v_faqs.epochs\n",
    "    #                                )\n",
    "    #     d2v_faqs.alpha -= 0.0025 # decrease the learning rate\n",
    "    #     d2v_faqs.min_alpha = d2v_faqs.alpha # fix the learning rate, no decay"
   ]
  },
  {
   "cell_type": "code",
   "execution_count": 22,
   "metadata": {
    "colab": {
     "base_uri": "https://localhost:8080/",
     "height": 34
    },
    "colab_type": "code",
    "executionInfo": {
     "elapsed": 1147,
     "status": "ok",
     "timestamp": 1574428068680,
     "user": {
      "displayName": "규진문",
      "photoUrl": "https://lh3.googleusercontent.com/a-/AAuE7mDu_KUplZBHa74hvIOiKRhW5OrsKjsno9atVFQakhk=s64",
      "userId": "18415545031766397225"
     },
     "user_tz": -540
    },
    "id": "QzFj_-dV7ctu",
    "outputId": "b5b88b6d-faab-49d5-e55e-bbed4d9e2783"
   },
   "outputs": [
    {
     "data": {
      "text/plain": [
       "['What', \"'s\", 'best', 'anti', 'diarrheal', 'prescription', '?']"
      ]
     },
     "execution_count": 22,
     "metadata": {
      "tags": []
     },
     "output_type": "execute_result"
    }
   ],
   "source": [
    "# 테스트하는 문장도 같은 전처리를 해준다.\n",
    "test_string = \"What's the best anti diarrheal prescription?\"\n",
    "tokened_test_string = word_tokenize(test_string)\n",
    "lemmed_test_string = [lemmatizer.lemmatize(word) for word in tokened_test_string]\n",
    "test_string = [w for w in lemmed_test_string if not w in stop_words]\n",
    "\n",
    "test_string"
   ]
  },
  {
   "cell_type": "code",
   "execution_count": 25,
   "metadata": {
    "colab": {
     "base_uri": "https://localhost:8080/",
     "height": 157
    },
    "colab_type": "code",
    "executionInfo": {
     "elapsed": 537,
     "status": "ok",
     "timestamp": 1574428956159,
     "user": {
      "displayName": "규진문",
      "photoUrl": "https://lh3.googleusercontent.com/a-/AAuE7mDu_KUplZBHa74hvIOiKRhW5OrsKjsno9atVFQakhk=s64",
      "userId": "18415545031766397225"
     },
     "user_tz": -540
    },
    "id": "qpjUK4ws9dvd",
    "outputId": "0d80663b-52ab-4f21-b73c-1b482a2abe2f"
   },
   "outputs": [
    {
     "name": "stdout",
     "output_type": "stream",
     "text": [
      "[(1, 0.9341994524002075), (21792, 0.6980049014091492), (29760, 0.6693370342254639), (6473, 0.6332617998123169), (17287, 0.6220482587814331)]\n",
      "1위. 0.9341994524002075, 1 What's the best anti diarrheal prescription?\n",
      "2위. 0.6980049014091492, 21792 What's the best angle to tackle a problem?\n",
      "3위. 0.6693370342254639, 29760 What's a Jackhammer's Best Friend?\n",
      "4위. 0.6332617998123169, 6473 What's the best way to get to the front page?\n",
      "5위. 0.6220482587814331, 17287 What's the best thing about having insomnia?\n"
     ]
    },
    {
     "name": "stderr",
     "output_type": "stream",
     "text": [
      "/usr/local/lib/python3.6/dist-packages/gensim/matutils.py:737: FutureWarning: Conversion of the second argument of issubdtype from `int` to `np.signedinteger` is deprecated. In future, it will be treated as `np.int64 == np.dtype(int).type`.\n",
      "  if np.issubdtype(vec.dtype, np.int):\n"
     ]
    }
   ],
   "source": [
    "topn = 5\n",
    "test_vector = d2v_faqs.infer_vector(test_string)\n",
    "result = d2v_faqs.docvecs.most_similar([test_vector], topn=topn)\n",
    "print(result)\n",
    "\n",
    "for i in range(topn):\n",
    "    print(\"{}위. {}, {} {}\".format(i+1, result[i][1], result[i][0],faqs['Question'][result[i][0]] ))"
   ]
  },
  {
   "cell_type": "code",
   "execution_count": 27,
   "metadata": {
    "colab": {
     "base_uri": "https://localhost:8080/",
     "height": 69
    },
    "colab_type": "code",
    "executionInfo": {
     "elapsed": 110370,
     "status": "ok",
     "timestamp": 1574430416957,
     "user": {
      "displayName": "규진문",
      "photoUrl": "https://lh3.googleusercontent.com/a-/AAuE7mDu_KUplZBHa74hvIOiKRhW5OrsKjsno9atVFQakhk=s64",
      "userId": "18415545031766397225"
     },
     "user_tz": -540
    },
    "id": "-1TNY_a2mIC2",
    "outputId": "9ccafa70-ed13-4e6f-935a-be3c4b4aa526"
   },
   "outputs": [
    {
     "name": "stderr",
     "output_type": "stream",
     "text": [
      "/usr/local/lib/python3.6/dist-packages/gensim/matutils.py:737: FutureWarning: Conversion of the second argument of issubdtype from `int` to `np.signedinteger` is deprecated. In future, it will be treated as `np.int64 == np.dtype(int).type`.\n",
      "  if np.issubdtype(vec.dtype, np.int):\n"
     ]
    },
    {
     "name": "stdout",
     "output_type": "stream",
     "text": [
      "정확도 = 0.8619509263372442 % (32986/38269 )  \n"
     ]
    }
   ],
   "source": [
    "# 성능 측정\n",
    "raten = 5\n",
    "found = 0\n",
    "for i in range(len(faqs)):\n",
    "    tstr = faqs['Question'][i]\n",
    "    tokened_test_string = word_tokenize(tstr)\n",
    "    lemmed_test_string = [lemmatizer.lemmatize(word) for word in tokened_test_string]\n",
    "    ttok = [w for w in lemmed_test_string if not w in stop_words]\n",
    "    tvec = d2v_faqs.infer_vector(ttok)\n",
    "    re = d2v_faqs.docvecs.most_similar([tvec], topn = raten)\n",
    "    for j in range(raten):\n",
    "        if i == re[j][0]: \n",
    "            found = found + 1\n",
    "            break\n",
    "\n",
    "print(\"정확도 = {} % ({}/{} )  \".format(found/len(faqs),found, len(faqs)))"
   ]
  },
  {
   "cell_type": "code",
   "execution_count": 0,
   "metadata": {
    "colab": {
     "base_uri": "https://localhost:8080/",
     "height": 71
    },
    "colab_type": "code",
    "executionInfo": {
     "elapsed": 967,
     "status": "ok",
     "timestamp": 1571987290027,
     "user": {
      "displayName": "규진문",
      "photoUrl": "https://lh3.googleusercontent.com/a-/AAuE7mDu_KUplZBHa74hvIOiKRhW5OrsKjsno9atVFQakhk=s64",
      "userId": "18415545031766397225"
     },
     "user_tz": -540
    },
    "id": "MbI4eNRHsk1j",
    "outputId": "b1b304c6-5d7b-4bcb-fd30-75313fe95327"
   },
   "outputs": [
    {
     "name": "stderr",
     "output_type": "stream",
     "text": [
      "/usr/local/lib/python3.6/dist-packages/smart_open/smart_open_lib.py:398: UserWarning: This function is deprecated, use smart_open.open instead. See the migration notes for details: https://github.com/RaRe-Technologies/smart_open/blob/master/README.rst#migrating-to-the-new-open-function\n",
      "  'See the migration notes for details: %s' % _MIGRATION_NOTES_URL\n"
     ]
    }
   ],
   "source": [
    "# 모델 저장\n",
    "\n",
    "# 모델 1\n",
    "#d2v_faqs.save(os.path.join('data','/content/drive/My Drive/data/d2v_faqs_size100_min1_batch50_epoch100_nounonly_dm0.model'))\n",
    "\n",
    "#모델 2\n",
    "d2v_faqs.save(os.path.join('data','/content/drive/My Drive/data/d2v_faqs_size200_min5_epoch20_jokes.model'))"
   ]
  }
 ],
 "metadata": {
  "accelerator": "GPU",
  "colab": {
   "collapsed_sections": [],
   "name": "Untitled7.ipynb",
   "provenance": []
  },
  "kernelspec": {
   "display_name": "Python 3 (ipykernel)",
   "language": "python",
   "name": "python3"
  },
  "language_info": {
   "codemirror_mode": {
    "name": "ipython",
    "version": 3
   },
   "file_extension": ".py",
   "mimetype": "text/x-python",
   "name": "python",
   "nbconvert_exporter": "python",
   "pygments_lexer": "ipython3",
   "version": "3.9.7"
  },
  "toc": {
   "base_numbering": 1,
   "nav_menu": {},
   "number_sections": true,
   "sideBar": true,
   "skip_h1_title": false,
   "title_cell": "Table of Contents",
   "title_sidebar": "Contents",
   "toc_cell": false,
   "toc_position": {},
   "toc_section_display": true,
   "toc_window_display": false
  },
  "varInspector": {
   "cols": {
    "lenName": 16,
    "lenType": 16,
    "lenVar": 40
   },
   "kernels_config": {
    "python": {
     "delete_cmd_postfix": "",
     "delete_cmd_prefix": "del ",
     "library": "var_list.py",
     "varRefreshCmd": "print(var_dic_list())"
    },
    "r": {
     "delete_cmd_postfix": ") ",
     "delete_cmd_prefix": "rm(",
     "library": "var_list.r",
     "varRefreshCmd": "cat(var_dic_list()) "
    }
   },
   "types_to_exclude": [
    "module",
    "function",
    "builtin_function_or_method",
    "instance",
    "_Feature"
   ],
   "window_display": false
  }
 },
 "nbformat": 4,
 "nbformat_minor": 1
}
